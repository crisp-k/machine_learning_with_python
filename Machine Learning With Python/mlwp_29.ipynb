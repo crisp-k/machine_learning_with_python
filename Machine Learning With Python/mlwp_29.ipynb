{
 "cells": [
  {
   "cell_type": "markdown",
   "metadata": {},
   "source": [
    "# Natural Language Processing: Classification"
   ]
  },
  {
   "cell_type": "code",
   "execution_count": 26,
   "metadata": {},
   "outputs": [],
   "source": [
    "def text2paragraphs(filename, min_size=1):\n",
    "    txt = open(filename, 'r', encoding='utf8')\n",
    "\n",
    "    txt = txt.read()\n",
    "\n",
    "    paragraphs = [para for para in txt.split('\\n\\n') if len(para) > min_size]\n",
    "\n",
    "    return paragraphs"
   ]
  },
  {
   "cell_type": "code",
   "execution_count": 27,
   "metadata": {},
   "outputs": [],
   "source": [
    "labels = ['Virginia Woolf', 'Samuel Butler', 'Herman Melville', 'David Herbert Lawrence',\n",
    "          'Daniel Defoe', 'James Joyce']\n",
    "\n",
    "files = ['night_and_day_virginia_woolf.txt', 'the_way_of_all_flash_butler.txt',\n",
    "         'moby_dick_melville.txt', 'sons_and_lovers_lawrence.txt',\n",
    "         'robinson_crusoe_defoe.txt', 'james_joyce_ulysses.txt']"
   ]
  },
  {
   "cell_type": "code",
   "execution_count": 28,
   "metadata": {},
   "outputs": [],
   "source": [
    "data = []\n",
    "targets = []\n",
    "counter = 0\n",
    "\n",
    "for fname in files:\n",
    "    paras = text2paragraphs(fname, min_size=150)\n",
    "    data.extend(paras)\n",
    "\n",
    "    targets += [counter] * len(paras)\n",
    "    counter += 1"
   ]
  },
  {
   "cell_type": "code",
   "execution_count": 30,
   "metadata": {},
   "outputs": [],
   "source": [
    "import random\n",
    "\n",
    "data_targets = list(zip(data, targets))\n",
    "data_targets = random.sample(data_targets, len(data_targets))\n",
    "\n",
    "data, targets = list(zip(*data_targets))"
   ]
  },
  {
   "cell_type": "code",
   "execution_count": 31,
   "metadata": {},
   "outputs": [],
   "source": [
    "from sklearn.model_selection import train_test_split\n",
    "\n",
    "train_data, test_data, train_targets, test_targets = train_test_split(data, targets,\n",
    "                                                                      train_size=0.8,\n",
    "                                                                      test_size=0.2,\n",
    "                                                                      random_state=42)"
   ]
  },
  {
   "cell_type": "code",
   "execution_count": 33,
   "metadata": {},
   "outputs": [
    {
     "name": "stdout",
     "output_type": "stream",
     "text": [
      "Accuracy score:  0.9079019073569482\n",
      "F1-score:  0.9040653862199467\n"
     ]
    }
   ],
   "source": [
    "from sklearn.feature_extraction.text import CountVectorizer, ENGLISH_STOP_WORDS\n",
    "from sklearn.naive_bayes import MultinomialNB\n",
    "from sklearn import metrics\n",
    "\n",
    "vectorizer = CountVectorizer(stop_words=list(ENGLISH_STOP_WORDS))\n",
    "vectors = vectorizer.fit_transform(train_data)\n",
    "\n",
    "classifier = MultinomialNB(alpha=0.01)\n",
    "classifier.fit(vectors, train_targets)\n",
    "\n",
    "vectors_test = vectorizer.transform(test_data)\n",
    "\n",
    "predictions = classifier.predict(vectors_test)\n",
    "accuracy_score = metrics.accuracy_score(test_targets, predictions)\n",
    "\n",
    "f1_score = metrics.f1_score(test_targets, predictions, average='macro')\n",
    "\n",
    "print('Accuracy score: ', accuracy_score)\n",
    "print(\"F1-score: \", f1_score)"
   ]
  },
  {
   "cell_type": "code",
   "execution_count": 36,
   "metadata": {},
   "outputs": [
    {
     "name": "stdout",
     "output_type": "stream",
     "text": [
      "[1 1 1 1 1 1 1 1 1 1 1 1 1 1 1 1 1 1 1 1 1 1 1 5 1 1 1 1 1 1 1 1 1 1 1 1 1\n",
      " 1 1 1 1 1 1 1 1 1 1 1 1 1 1 1 1 1 1 1 1 1 1 1 1 1 1 1 1 1 1 1 1 1 1 1 1 1\n",
      " 1 1 1 1 1 1 1 1 1 1 1 1 1 1 1 1 1 1 1 1 1 1 1 0 1 1 1 1 1 1 1 1 1 1 1 1 1\n",
      " 1 1 1 1 1 1 1 1 1 1 1 1 1 1 1 1 1 1 1 1 1 1 1 1 1 3 1 1 1 1 1 1 1 1 1 1 1\n",
      " 1 1 1 1 1 1 1 1 1 1 1 1 1 1 1 1 1 1 1 1 1 1 3 1 1 1 1 1 1 1 1 1 1 1 1 1 1\n",
      " 1 1 1 1 1 1 1 1 1 1 1 1 1 1 1 1 1 1 1 1 1 1 1 1 1 1 1 1 1 1 1 1 1 1 1 1 1\n",
      " 1 1 1 1 1 1 1 1 1 1 1 1 1 1 1 1 1 1 1 1 1 1 1 1 1 1 1 1 1 1 1 1 1 1 1 1 1\n",
      " 1 1 1 1 1 1 1 1 1 1 1 1 1 1 1 1 1 1 1 1 1 1 1 1 1 1 1 1 1 1 1 1 1 1 1 1 1\n",
      " 1 1 1 1 1 1 1 1 1 1 1 1 1 1 1 1 1 1 1 1 1 1 1 1 1 1 1 1 1 1 1 1 1 1 1 1 1\n",
      " 1 1 1 1 1 1 1 1 1 1 1 1 1 1 1 1 1 1 1 1 1 1 1 1 1 1 1 1 1 1 1 1 1 1 1 1 1\n",
      " 1 1 1 1 1 1 1 1 1 1 1 1 1 1 1 1 1 1 1 1 1 1 1 1 1 1 1 1 1 1]\n",
      "Accuracy Score:  0.0025\n",
      "F1-score:  0.0012468827930174565\n"
     ]
    }
   ],
   "source": [
    "paras = text2paragraphs('the_way_of_all_flash_butler.txt', min_size=250)\n",
    "\n",
    "first_para, last_para = 100, 500\n",
    "vectors_test = vectorizer.transform(paras[first_para: last_para])\n",
    "\n",
    "predictions = classifier.predict(vectors_test)\n",
    "print(predictions)\n",
    "\n",
    "targets = [0] * (last_para - first_para)\n",
    "\n",
    "accuracy_score = metrics.accuracy_score(targets, predictions)\n",
    "f1_score = metrics.f1_score(targets, predictions, average='macro')\n",
    "\n",
    "print('Accuracy Score: ', accuracy_score)\n",
    "print('F1-score: ', f1_score)"
   ]
  },
  {
   "cell_type": "code",
   "execution_count": 37,
   "metadata": {},
   "outputs": [
    {
     "name": "stdout",
     "output_type": "stream",
     "text": [
      "[[1.14225044e-45 1.00000000e+00 5.75575570e-68 4.54535031e-55\n",
      "  1.00531347e-59 8.38127129e-58]\n",
      " [5.12376439e-11 1.00000000e+00 2.01599535e-29 9.87528690e-31\n",
      "  1.03842869e-42 3.30261009e-19]\n",
      " [1.25300503e-19 1.00000000e+00 2.23665689e-43 7.34845309e-32\n",
      "  4.68185436e-32 7.67785640e-36]\n",
      " ...\n",
      " [4.76854571e-17 1.00000000e+00 2.00913469e-36 3.31795283e-29\n",
      "  9.38027729e-46 6.54210889e-31]\n",
      " [3.33282493e-10 1.00000000e+00 1.07749183e-17 1.79841096e-14\n",
      "  4.59916910e-22 2.44288555e-15]\n",
      " [2.87964670e-16 1.00000000e+00 2.46375214e-35 2.52443688e-29\n",
      "  2.89432339e-32 1.02570110e-40]]\n"
     ]
    }
   ],
   "source": [
    "predictions = classifier.predict_proba(vectors_test)\n",
    "print(predictions)"
   ]
  },
  {
   "cell_type": "code",
   "execution_count": 38,
   "metadata": {},
   "outputs": [
    {
     "name": "stdout",
     "output_type": "stream",
     "text": [
      "[1.14225044e-45 1.00000000e+00 5.75575570e-68 4.54535031e-55\n",
      " 1.00531347e-59 8.38127129e-58] The Allabys behaved with great judgement.  They humoured him till his\n",
      "retreat was practically cut off, though he still flattered himself that\n",
      "it was open.  One day about six months after Theobald had become an\n",
      "almost daily visitor at the Rectory the conversation happened to turn\n",
      "upon long engagements.  \"I don't like long engagements, Mr Allaby, do\n",
      "you?\" said Theobald imprudently.  \"No,\" said Mr Allaby in a pointed tone,\n",
      "\"nor long courtships,\" and he gave Theobald a look which he could not\n",
      "pretend to misunderstand.  He went back to Cambridge as fast as he could\n",
      "go, and in dread of the conversation with Mr Allaby which he felt to be\n",
      "impending, composed the following letter which he despatched that same\n",
      "afternoon by a private messenger to Crampsford.  The letter was as\n",
      "follows:--\n",
      "[5.12376439e-11 1.00000000e+00 2.01599535e-29 9.87528690e-31\n",
      " 1.03842869e-42 3.30261009e-19]    \"Dearest Miss Christina,--I do not know whether you have guessed the\n",
      "   feelings that I have long entertained for you--feelings which I have\n",
      "   concealed as much as I could through fear of drawing you into an\n",
      "   engagement which, if you enter into it, must be prolonged for a\n",
      "   considerable time, but, however this may be, it is out of my power to\n",
      "   conceal them longer; I love you, ardently, devotedly, and send these\n",
      "   few lines asking you to be my wife, because I dare not trust my tongue\n",
      "   to give adequate expression to the magnitude of my affection for you.\n",
      "[1.25300503e-19 1.00000000e+00 2.23665689e-43 7.34845309e-32\n",
      " 4.68185436e-32 7.67785640e-36]    \"I cannot pretend to offer you a heart which has never known either\n",
      "   love or disappointment.  I have loved already, and my heart was years\n",
      "   in recovering from the grief I felt at seeing her become another's.\n",
      "   That, however, is over, and having seen yourself I rejoice over a\n",
      "   disappointment which I thought at one time would have been fatal to\n",
      "   me.  It has left me a less ardent lover than I should perhaps\n",
      "   otherwise have been, but it has increased tenfold my power of\n",
      "   appreciating your many charms and my desire that you should become my\n",
      "   wife.  Please let me have a few lines of answer by the bearer to let\n",
      "   me know whether or not my suit is accepted.  If you accept me I will\n",
      "   at once come and talk the matter over with Mr and Mrs Allaby, whom I\n",
      "   shall hope one day to be allowed to call father and mother.\n",
      "[2.10899926e-15 1.00000000e+00 1.09766522e-18 1.26118611e-21\n",
      " 1.35362900e-19 2.25606934e-10]    \"I ought to warn you that in the event of your consenting to be my\n",
      "   wife it may be years before our union can be consummated, for I cannot\n",
      "   marry till a college living is offered me.  If, therefore, you see fit\n",
      "   to reject me, I shall be grieved rather than surprised.--Ever most\n",
      "   devotedly yours,\n",
      "[2.35954820e-21 1.00000000e+00 1.42359852e-33 2.16131908e-19\n",
      " 1.36706990e-28 1.48726119e-24] And this was all that his public school and University education had been\n",
      "able to do for Theobald!  Nevertheless for his own part he thought his\n",
      "letter rather a good one, and congratulated himself in particular upon\n",
      "his cleverness in inventing the story of a previous attachment, behind\n",
      "which he intended to shelter himself if Christina should complain of any\n",
      "lack of fervour in his behaviour to her.\n",
      "[6.78316169e-79 1.00000000e+00 3.92331623e-97 1.31160859e-83\n",
      " 1.73815024e-89 1.19212765e-75] I need not give Christina's answer, which of course was to accept.  Much\n",
      "as Theobald feared old Mr Allaby I do not think he would have wrought up\n",
      "his courage to the point of actually proposing but for the fact of the\n",
      "engagement being necessarily a long one, during which a dozen things\n",
      "might turn up to break it off.  However much he may have disapproved of\n",
      "long engagements for other people, I doubt whether he had any particular\n",
      "objection to them in his own case.  A pair of lovers are like sunset and\n",
      "sunrise: there are such things every day but we very seldom see them.\n",
      "Theobald posed as the most ardent lover imaginable, but, to use the\n",
      "vulgarism for the moment in fashion, it was all \"side.\"  Christina was in\n",
      "love, as indeed she had been twenty times already.  But then Christina\n",
      "was impressionable and could not even hear the name \"Missolonghi\"\n",
      "mentioned without bursting into tears.  When Theobald accidentally left\n",
      "his sermon case behind him one Sunday, she slept with it in her bosom and\n",
      "was forlorn when she had as it were to disgorge it on the following\n",
      "Sunday; but I do not think Theobald ever took so much as an old\n",
      "toothbrush of Christina's to bed with him.  Why, I knew a young man once\n",
      "who got hold of his mistress's skates and slept with them for a fortnight\n",
      "and cried when he had to give them up.\n",
      "[1.66005881e-51 1.00000000e+00 1.07216762e-78 1.29584954e-74\n",
      " 1.65845752e-72 2.70071117e-57] \n",
      "Theobald's engagement was all very well as far as it went, but there was\n",
      "an old gentleman with a bald head and rosy cheeks in a counting-house in\n",
      "Paternoster Row who must sooner or later be told of what his son had in\n",
      "view, and Theobald's heart fluttered when he asked himself what view this\n",
      "old gentleman was likely to take of the situation.  The murder, however,\n",
      "had to come out, and Theobald and his intended, perhaps imprudently,\n",
      "resolved on making a clean breast of it at once.  He wrote what he and\n",
      "Christina, who helped him to draft the letter, thought to be everything\n",
      "that was filial, and expressed himself as anxious to be married with the\n",
      "least possible delay.  He could not help saying this, as Christina was at\n",
      "his shoulder, and he knew it was safe, for his father might be trusted\n",
      "not to help him.  He wound up by asking his father to use any influence\n",
      "that might be at his command to help him to get a living, inasmuch as it\n",
      "might be years before a college living fell vacant, and he saw no other\n",
      "chance of being able to marry, for neither he nor his intended had any\n",
      "money except Theobald's fellowship, which would, of course, lapse on his\n",
      "taking a wife.\n",
      "[5.50766295e-14 1.00000000e+00 8.36719441e-18 1.23935487e-12\n",
      " 2.20576561e-24 5.62723136e-12] Any step of Theobald's was sure to be objectionable in his father's eyes,\n",
      "but that at three-and-twenty he should want to marry a penniless girl who\n",
      "was four years older than himself, afforded a golden opportunity which\n",
      "the old gentleman--for so I may now call him, as he was at least\n",
      "sixty--embraced with characteristic eagerness.\n",
      "[4.78433326e-54 1.00000000e+00 9.51852955e-71 8.45539824e-75\n",
      " 2.65811924e-61 5.15844185e-58]    \"The ineffable folly,\" he wrote, on receiving his son's letter, \"of\n",
      "   your fancied passion for Miss Allaby fills me with the gravest\n",
      "   apprehensions.  Making every allowance for a lover's blindness, I\n",
      "   still have no doubt that the lady herself is a well-conducted and\n",
      "   amiable young person, who would not disgrace our family, but were she\n",
      "   ten times more desirable as a daughter-in-law than I can allow myself\n",
      "   to hope, your joint poverty is an insuperable objection to your\n",
      "   marriage.  I have four other children besides yourself, and my\n",
      "   expenses do not permit me to save money.  This year they have been\n",
      "   especially heavy, indeed I have had to purchase two not inconsiderable\n",
      "   pieces of land which happened to come into the market and were\n",
      "   necessary to complete a property which I have long wanted to round off\n",
      "   in this way.  I gave you an education regardless of expense, which has\n",
      "   put you in possession of a comfortable income, at an age when many\n",
      "   young men are dependent.  I have thus started you fairly in life, and\n",
      "   may claim that you should cease to be a drag upon me further.  Long\n",
      "   engagements are proverbially unsatisfactory, and in the present case\n",
      "   the prospect seems interminable.  What interest, pray, do you suppose\n",
      "   I have that I could get a living for you?  Can I go up and down the\n",
      "   country begging people to provide for my son because he has taken it\n",
      "   into his head to want to get married without sufficient means?\n",
      "[3.96605734e-12 1.00000000e+00 4.60001741e-29 4.97806548e-24\n",
      " 1.96068973e-20 9.08341388e-19]    \"I do not wish to write unkindly, nothing can be farther from my real\n",
      "   feelings towards you, but there is often more kindness in plain\n",
      "   speaking than in any amount of soft words which can end in no\n",
      "   substantial performance.  Of course, I bear in mind that you are of\n",
      "   age, and can therefore please yourself, but if you choose to claim the\n",
      "   strict letter of the law, and act without consideration for your\n",
      "   father's feelings, you must not be surprised if you one day find that\n",
      "   I have claimed a like liberty for myself.--Believe me, your\n",
      "   affectionate father, G. PONTIFEX.\"\n"
     ]
    }
   ],
   "source": [
    "for i in range(0, 10):\n",
    "    print(predictions[i], paras[i+first_para])"
   ]
  },
  {
   "cell_type": "code",
   "execution_count": 39,
   "metadata": {},
   "outputs": [
    {
     "name": "stdout",
     "output_type": "stream",
     "text": [
      "Creating a classifier. This will take some time!\n"
     ]
    }
   ],
   "source": [
    "from sklearn.neural_network import MLPClassifier\n",
    "\n",
    "vectorizer = CountVectorizer(stop_words=list(ENGLISH_STOP_WORDS))\n",
    "vectors = vectorizer.fit_transform(train_data)\n",
    "\n",
    "print(\"Creating a classifier. This will take some time!\")\n",
    "classifier = MLPClassifier(random_state=1, max_iter=300).fit(vectors, train_targets)"
   ]
  },
  {
   "cell_type": "code",
   "execution_count": null,
   "metadata": {},
   "outputs": [],
   "source": [
    "vectors_test = vectorizer.transform(test_data)\n",
    "\n",
    "predictions = classifier.predict(vectors_test)\n",
    "accuracy_score = metrics.accuracy_score(test_targets, predictions)\n",
    "\n",
    "f1_score = metrics.f1_score(test_targets, predictions, average='macro')\n",
    "\n",
    "print('accuracy score: ', accuracy_score)\n",
    "print('f1-score: ', f1_score)"
   ]
  },
  {
   "cell_type": "code",
   "execution_count": null,
   "metadata": {},
   "outputs": [],
   "source": []
  }
 ],
 "metadata": {
  "kernelspec": {
   "display_name": "Python 3",
   "language": "python",
   "name": "python3"
  },
  "language_info": {
   "codemirror_mode": {
    "name": "ipython",
    "version": 3
   },
   "file_extension": ".py",
   "mimetype": "text/x-python",
   "name": "python",
   "nbconvert_exporter": "python",
   "pygments_lexer": "ipython3",
   "version": "3.11.5"
  },
  "orig_nbformat": 4
 },
 "nbformat": 4,
 "nbformat_minor": 2
}
