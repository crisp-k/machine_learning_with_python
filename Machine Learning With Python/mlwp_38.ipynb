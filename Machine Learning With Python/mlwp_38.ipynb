{
 "cells": [
  {
   "cell_type": "markdown",
   "metadata": {},
   "source": [
    "# Introduction to TensorFlow\n",
    "\n",
    "This source code was written for TensorFlow v1 instead of v2. That is why this is not fully completed."
   ]
  },
  {
   "cell_type": "code",
   "execution_count": 5,
   "metadata": {},
   "outputs": [
    {
     "data": {
      "text/plain": [
       "<tf.Tensor: shape=(), dtype=float32, numpy=34.001156>"
      ]
     },
     "execution_count": 5,
     "metadata": {},
     "output_type": "execute_result"
    }
   ],
   "source": [
    "import tensorflow as tf\n",
    "\n",
    "c1 = tf.constant(0.034)\n",
    "c2 = tf.constant(1000.0)\n",
    "\n",
    "x = tf.multiply(c1, c1)\n",
    "y = tf.multiply(c1, c2)\n",
    "\n",
    "final_node = tf.add(x, y)\n",
    "\n",
    "final_node\n"
   ]
  },
  {
   "cell_type": "code",
   "execution_count": 6,
   "metadata": {},
   "outputs": [
    {
     "data": {
      "text/plain": [
       "<tf.Tensor: shape=(), dtype=float64, numpy=34.001156>"
      ]
     },
     "execution_count": 6,
     "metadata": {},
     "output_type": "execute_result"
    }
   ],
   "source": [
    "c1 = tf.constant(0.034, dtype=tf.float64)\n",
    "c2 = tf.constant(1000.0, dtype=tf.float64)\n",
    "\n",
    "x = tf.multiply(c1, c1)\n",
    "y = tf.multiply(c1, c2)\n",
    "\n",
    "final_node = tf.add(x, y)\n",
    "\n",
    "final_node"
   ]
  },
  {
   "cell_type": "code",
   "execution_count": 7,
   "metadata": {},
   "outputs": [
    {
     "data": {
      "text/plain": [
       "<tf.Tensor: shape=(4,), dtype=float64, numpy=array([ 23.12, 165.62,   2.88, 162.  ])>"
      ]
     },
     "execution_count": 7,
     "metadata": {},
     "output_type": "execute_result"
    }
   ],
   "source": [
    "c1 = tf.constant([3.4, 9.1, -1.2, 9], dtype=tf.float64)\n",
    "c2 = tf.constant([3.4, 9.1, -1.2, 9], dtype=tf.float64)\n",
    "\n",
    "x = tf.multiply(c1, c1)\n",
    "y = tf.multiply(c1, c2)\n",
    "\n",
    "final_node = tf.add(x, y)\n",
    "\n",
    "final_node"
   ]
  },
  {
   "cell_type": "code",
   "execution_count": 8,
   "metadata": {},
   "outputs": [
    {
     "name": "stdout",
     "output_type": "stream",
     "text": [
      "tf.Tensor([ 3.4  9.1 -1.2  9. ], shape=(4,), dtype=float64)\n",
      "tf.Tensor([11.56 82.81  1.44 81.  ], shape=(4,), dtype=float64)\n",
      "tf.Tensor([ 23.12 165.62   2.88 162.  ], shape=(4,), dtype=float64)\n"
     ]
    }
   ],
   "source": [
    "c1 = tf.constant([3.4, 9.1, -1.2, 9], dtype=tf.float64)\n",
    "c2 = tf.constant([3.4, 9.1, -1.2, 9], dtype=tf.float64)\n",
    "\n",
    "x = tf.multiply(c1, c1)\n",
    "y = tf.multiply(c1, c2)\n",
    "\n",
    "final_node = tf.add(x, y)\n",
    "\n",
    "print(c1)\n",
    "print(x)\n",
    "print(final_node)"
   ]
  },
  {
   "cell_type": "code",
   "execution_count": 11,
   "metadata": {},
   "outputs": [
    {
     "data": {
      "text/plain": [
       "<tf.Tensor: shape=(5, 5), dtype=float32, numpy=\n",
       "array([[1., 0., 0., 0., 0.],\n",
       "       [0., 1., 0., 0., 0.],\n",
       "       [0., 0., 1., 0., 0.],\n",
       "       [0., 0., 0., 1., 0.],\n",
       "       [0., 0., 0., 0., 1.]], dtype=float32)>"
      ]
     },
     "execution_count": 11,
     "metadata": {},
     "output_type": "execute_result"
    }
   ],
   "source": [
    "x = tf.range(12)\n",
    "x2 = tf.reshape(tensor=x, shape=(3, 4))\n",
    "x2 = tf.reduce_sum(x2)\n",
    "\n",
    "x3 = tf.eye(5, 5)\n",
    "\n",
    "x3"
   ]
  },
  {
   "cell_type": "code",
   "execution_count": 12,
   "metadata": {},
   "outputs": [
    {
     "data": {
      "text/plain": [
       "<tf.Tensor: shape=(), dtype=float32, numpy=1069.156>"
      ]
     },
     "execution_count": 12,
     "metadata": {},
     "output_type": "execute_result"
    }
   ],
   "source": [
    "p = tf.constant(0.034)\n",
    "c = tf.constant(1000.0)\n",
    "\n",
    "x = tf.add(c, tf.multiply(p, c))\n",
    "x = tf.add(x, tf.multiply(p, x))\n",
    "\n",
    "x"
   ]
  },
  {
   "cell_type": "code",
   "execution_count": 13,
   "metadata": {},
   "outputs": [
    {
     "ename": "AttributeError",
     "evalue": "module 'tensorflow' has no attribute 'placeholder'",
     "output_type": "error",
     "traceback": [
      "\u001b[1;31m---------------------------------------------------------------------------\u001b[0m",
      "\u001b[1;31mAttributeError\u001b[0m                            Traceback (most recent call last)",
      "\u001b[1;32mc:\\Users\\kylec\\OneDrive\\Desktop\\ML\\mlwp\\mlwp_38.ipynb Cell 8\u001b[0m line \u001b[0;36m3\n\u001b[0;32m      <a href='vscode-notebook-cell:/c%3A/Users/kylec/OneDrive/Desktop/ML/mlwp/mlwp_38.ipynb#W4sZmlsZQ%3D%3D?line=0'>1</a>\u001b[0m W \u001b[39m=\u001b[39m tf\u001b[39m.\u001b[39mVariable([\u001b[39m.5\u001b[39m], dtype\u001b[39m=\u001b[39mtf\u001b[39m.\u001b[39mfloat32)\n\u001b[0;32m      <a href='vscode-notebook-cell:/c%3A/Users/kylec/OneDrive/Desktop/ML/mlwp/mlwp_38.ipynb#W4sZmlsZQ%3D%3D?line=1'>2</a>\u001b[0m b \u001b[39m=\u001b[39m tf\u001b[39m.\u001b[39mVariable([\u001b[39m-\u001b[39m\u001b[39m1\u001b[39m], dtype\u001b[39m=\u001b[39mtf\u001b[39m.\u001b[39mfloat32)\n\u001b[1;32m----> <a href='vscode-notebook-cell:/c%3A/Users/kylec/OneDrive/Desktop/ML/mlwp/mlwp_38.ipynb#W4sZmlsZQ%3D%3D?line=2'>3</a>\u001b[0m x \u001b[39m=\u001b[39m tf\u001b[39m.\u001b[39;49mplaceholder(tf\u001b[39m.\u001b[39mfloat32)\n\u001b[0;32m      <a href='vscode-notebook-cell:/c%3A/Users/kylec/OneDrive/Desktop/ML/mlwp/mlwp_38.ipynb#W4sZmlsZQ%3D%3D?line=4'>5</a>\u001b[0m model \u001b[39m=\u001b[39m W \u001b[39m*\u001b[39m x \u001b[39m+\u001b[39m b\n\u001b[0;32m      <a href='vscode-notebook-cell:/c%3A/Users/kylec/OneDrive/Desktop/ML/mlwp/mlwp_38.ipynb#W4sZmlsZQ%3D%3D?line=6'>7</a>\u001b[0m model\n",
      "\u001b[1;31mAttributeError\u001b[0m: module 'tensorflow' has no attribute 'placeholder'"
     ]
    }
   ],
   "source": [
    "# W = tf.Variable([.5], dtype=tf.float32)\n",
    "# b = tf.Variable([-1], dtype=tf.float32)\n",
    "# x = tf.placeholder(tf.float32)\n",
    "\n",
    "# model = W * x + b\n",
    "\n",
    "# model\n"
   ]
  },
  {
   "cell_type": "code",
   "execution_count": null,
   "metadata": {},
   "outputs": [],
   "source": []
  },
  {
   "cell_type": "code",
   "execution_count": null,
   "metadata": {},
   "outputs": [],
   "source": []
  },
  {
   "cell_type": "code",
   "execution_count": null,
   "metadata": {},
   "outputs": [],
   "source": []
  },
  {
   "cell_type": "code",
   "execution_count": null,
   "metadata": {},
   "outputs": [],
   "source": []
  }
 ],
 "metadata": {
  "kernelspec": {
   "display_name": "Python 3",
   "language": "python",
   "name": "python3"
  },
  "language_info": {
   "codemirror_mode": {
    "name": "ipython",
    "version": 3
   },
   "file_extension": ".py",
   "mimetype": "text/x-python",
   "name": "python",
   "nbconvert_exporter": "python",
   "pygments_lexer": "ipython3",
   "version": "3.11.5"
  },
  "orig_nbformat": 4
 },
 "nbformat": 4,
 "nbformat_minor": 2
}
