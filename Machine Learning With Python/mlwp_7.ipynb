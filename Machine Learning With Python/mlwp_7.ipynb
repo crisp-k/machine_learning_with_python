{
 "cells": [
  {
   "cell_type": "markdown",
   "metadata": {},
   "source": [
    "## Train and Test Sets by Splitting Learn and Test Data"
   ]
  },
  {
   "cell_type": "code",
   "execution_count": 1,
   "metadata": {},
   "outputs": [],
   "source": [
    "import numpy as np\n",
    "from sklearn.datasets import load_iris\n",
    "\n",
    "iris = load_iris()"
   ]
  },
  {
   "cell_type": "code",
   "execution_count": 2,
   "metadata": {},
   "outputs": [
    {
     "data": {
      "text/plain": [
       "array([0, 0, 0, 0, 0, 0, 0, 0, 0, 0, 0, 0, 0, 0, 0, 0, 0, 0, 0, 0, 0, 0,\n",
       "       0, 0, 0, 0, 0, 0, 0, 0, 0, 0, 0, 0, 0, 0, 0, 0, 0, 0, 0, 0, 0, 0,\n",
       "       0, 0, 0, 0, 0, 0, 1, 1, 1, 1, 1, 1, 1, 1, 1, 1, 1, 1, 1, 1, 1, 1,\n",
       "       1, 1, 1, 1, 1, 1, 1, 1, 1, 1, 1, 1, 1, 1, 1, 1, 1, 1, 1, 1, 1, 1,\n",
       "       1, 1, 1, 1, 1, 1, 1, 1, 1, 1, 1, 1, 2, 2, 2, 2, 2, 2, 2, 2, 2, 2,\n",
       "       2, 2, 2, 2, 2, 2, 2, 2, 2, 2, 2, 2, 2, 2, 2, 2, 2, 2, 2, 2, 2, 2,\n",
       "       2, 2, 2, 2, 2, 2, 2, 2, 2, 2, 2, 2, 2, 2, 2, 2, 2, 2])"
      ]
     },
     "execution_count": 2,
     "metadata": {},
     "output_type": "execute_result"
    }
   ],
   "source": [
    "iris.target"
   ]
  },
  {
   "cell_type": "code",
   "execution_count": 3,
   "metadata": {},
   "outputs": [
    {
     "data": {
      "text/plain": [
       "array([ 18,  28,  86,  93, 102,  30,  56,  43,  46,  98,  83, 141,  88,\n",
       "       120,  53,  27,   9,  95, 106, 134, 116,   6, 121, 101,  64, 139,\n",
       "       110, 123,  60,  66,  80,  85,  71, 138,  62,  59,  76,  49,  50,\n",
       "        65,  13,  47, 119,  57,  16,  70,  41, 140, 142,  63, 132,  29,\n",
       "        58,  99, 130, 148,  81,  15, 117,  25, 126,  90,  94, 122,  14,\n",
       "       146,  52,  78,  35,   8,  42,  39,  38,   7, 118,  23,  33, 111,\n",
       "        97, 125,  34,  17,   4,  61,  54, 124, 107,  69,  72,  21,  10,\n",
       "        32, 131,  67,  84,  20,  87,  48, 103, 109,   0,   3,  82, 112,\n",
       "        77,  79,  31, 113,   1,  36,  19, 144, 143,  75,  44, 108,  45,\n",
       "        92, 129,   2, 114,  96, 145,  12, 128,   5, 127, 105,  40, 137,\n",
       "        74,  11,  22, 100, 149,  37, 133,  68,  91, 104,  26,  24,  73,\n",
       "       135,  55, 115, 136,  51,  89, 147])"
      ]
     },
     "execution_count": 3,
     "metadata": {},
     "output_type": "execute_result"
    }
   ],
   "source": [
    "indices = np.random.permutation(len(iris.data))\n",
    "indices"
   ]
  },
  {
   "cell_type": "code",
   "execution_count": 4,
   "metadata": {},
   "outputs": [
    {
     "name": "stdout",
     "output_type": "stream",
     "text": [
      "[[5.7 3.8 1.7 0.3]\n",
      " [5.2 3.4 1.4 0.2]\n",
      " [6.7 3.1 4.7 1.5]\n",
      " [5.  2.3 3.3 1. ]] [0 0 1 1]\n",
      "[[6.1 3.  4.6 1.4]\n",
      " [6.5 3.  5.8 2.2]\n",
      " [5.  3.4 1.6 0.4]\n",
      " [4.8 3.4 1.9 0.2]] [1 2 0 0]\n"
     ]
    }
   ],
   "source": [
    "n_test_samples = 12\n",
    "learnset_data = iris.data[indices[:-n_test_samples]]\n",
    "learnset_labels = iris.target[indices[:-n_test_samples]]\n",
    "\n",
    "testset_data =  iris.data[indices[-n_test_samples:]]\n",
    "testset_labels = iris.target[indices[-n_test_samples:]]\n",
    "\n",
    "print(learnset_data[:4], learnset_labels[:4])\n",
    "print(testset_data[:4], testset_labels[:4])"
   ]
  },
  {
   "cell_type": "markdown",
   "metadata": {},
   "source": [
    "### Splits with Sklearn"
   ]
  },
  {
   "cell_type": "code",
   "execution_count": 6,
   "metadata": {},
   "outputs": [
    {
     "name": "stdout",
     "output_type": "stream",
     "text": [
      "The first 7 data sets:\n",
      "[[6.1 2.8 4.7 1.2]\n",
      " [5.7 3.8 1.7 0.3]\n",
      " [7.7 2.6 6.9 2.3]\n",
      " [6.  2.9 4.5 1.5]\n",
      " [6.8 2.8 4.8 1.4]\n",
      " [5.4 3.4 1.5 0.4]\n",
      " [5.6 2.9 3.6 1.3]]\n",
      "The Corresponding 7 labels:\n",
      "[1 0 2 1 1 0 1]\n"
     ]
    }
   ],
   "source": [
    "from sklearn.model_selection import train_test_split\n",
    "\n",
    "iris = load_iris()\n",
    "\n",
    "data, labels = iris.data, iris.target\n",
    "\n",
    "res = train_test_split(data, labels,\n",
    "                        train_size=0.8,\n",
    "                        test_size = 0.2,\n",
    "                        random_state=42)\n",
    "\n",
    "train_data, test_data, train_labels, test_labels = res\n",
    "\n",
    "n = 7\n",
    "\n",
    "print(f'The first {n} data sets:')\n",
    "print(test_data[:n])\n",
    "print(f'The Corresponding {n} labels:')\n",
    "print(test_labels[:n])"
   ]
  },
  {
   "cell_type": "markdown",
   "metadata": {},
   "source": [
    "## Stratified Random Sample"
   ]
  },
  {
   "cell_type": "code",
   "execution_count": 7,
   "metadata": {},
   "outputs": [
    {
     "name": "stdout",
     "output_type": "stream",
     "text": [
      "All: [33.33333333 33.33333333 33.33333333]\n",
      "Training: [33.33333333 34.16666667 32.5       ]\n",
      "Test: [33.33333333 30.         36.66666667]\n"
     ]
    }
   ],
   "source": [
    "print('All:', np.bincount(labels) / float(len(labels)) * 100.0)\n",
    "print('Training:', np.bincount(train_labels) / float(len(train_labels)) * 100.0)\n",
    "\n",
    "print('Test:', np.bincount(test_labels) / float(len(test_labels)) * 100.0)"
   ]
  },
  {
   "cell_type": "code",
   "execution_count": 8,
   "metadata": {},
   "outputs": [
    {
     "name": "stdout",
     "output_type": "stream",
     "text": [
      "All: [33.33333333 33.33333333 33.33333333]\n",
      "Training: [33.33333333 33.33333333 33.33333333]\n",
      "Test: [33.33333333 33.33333333 33.33333333]\n"
     ]
    }
   ],
   "source": [
    "iris = load_iris()\n",
    "\n",
    "data, labels = iris.data, iris.target\n",
    "\n",
    "res = train_test_split(data, labels,\n",
    "                        train_size=0.8,\n",
    "                        test_size=0.2,\n",
    "                        random_state=42,\n",
    "                        stratify=labels)\n",
    "\n",
    "train_data, test_data, train_labels, test_labels = res\n",
    "\n",
    "print('All:', np.bincount(labels) / float(len(labels)) * 100.0)\n",
    "print('Training:', np.bincount(train_labels) / float(len(train_labels)) * 100.0)\n",
    "\n",
    "print('Test:', np.bincount(test_labels) / float(len(test_labels)) * 100.0)"
   ]
  },
  {
   "cell_type": "code",
   "execution_count": null,
   "metadata": {},
   "outputs": [],
   "source": []
  },
  {
   "cell_type": "code",
   "execution_count": null,
   "metadata": {},
   "outputs": [],
   "source": []
  },
  {
   "cell_type": "code",
   "execution_count": null,
   "metadata": {},
   "outputs": [],
   "source": []
  }
 ],
 "metadata": {
  "kernelspec": {
   "display_name": "Python 3",
   "language": "python",
   "name": "python3"
  },
  "language_info": {
   "codemirror_mode": {
    "name": "ipython",
    "version": 3
   },
   "file_extension": ".py",
   "mimetype": "text/x-python",
   "name": "python",
   "nbconvert_exporter": "python",
   "pygments_lexer": "ipython3",
   "version": "3.11.5"
  },
  "orig_nbformat": 4
 },
 "nbformat": 4,
 "nbformat_minor": 2
}
