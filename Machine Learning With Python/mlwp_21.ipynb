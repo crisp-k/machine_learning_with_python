{
 "cells": [
  {
   "cell_type": "markdown",
   "metadata": {},
   "source": [
    "# Dropout Neural Networks in Python\n",
    "\n",
    "### Modifying the Weight Arrays"
   ]
  },
  {
   "cell_type": "code",
   "execution_count": 65,
   "metadata": {},
   "outputs": [
    {
     "data": {
      "text/plain": [
       "array([[ -2,  -3,   8,   5,   8,   1,  -8,   3,  -2,   3],\n",
       "       [-10,   3,  -9,   7,   2,   5,  -9,   1,   5,  -1],\n",
       "       [  1,  -9,  -3,  -7,  -7,   2,   5,   3,  -8,   4],\n",
       "       [ -1,   4,  -9,   7,  -7,  -5,  -1,  -5,   7,  -6],\n",
       "       [  8,   2,  -3,  -8,   3, -10,  -2,   6, -10,   6]])"
      ]
     },
     "execution_count": 65,
     "metadata": {},
     "output_type": "execute_result"
    }
   ],
   "source": [
    "import numpy as np\n",
    "import random\n",
    "\n",
    "input_nodes = 10\n",
    "hidden_nodes = 5\n",
    "output_nodes = 7\n",
    "\n",
    "wih = np.random.randint(-10, 10, (hidden_nodes, input_nodes))\n",
    "wih"
   ]
  },
  {
   "cell_type": "code",
   "execution_count": 66,
   "metadata": {},
   "outputs": [
    {
     "data": {
      "text/plain": [
       "[0, 2, 3, 4, 6, 8, 9]"
      ]
     },
     "execution_count": 66,
     "metadata": {},
     "output_type": "execute_result"
    }
   ],
   "source": [
    "active_input_percentage = 0.7\n",
    "active_input_nodes = int(input_nodes * active_input_percentage)\n",
    "active_input_indices = sorted(random.sample(range(0, input_nodes), active_input_nodes))\n",
    "\n",
    "active_input_indices"
   ]
  },
  {
   "cell_type": "code",
   "execution_count": 67,
   "metadata": {},
   "outputs": [
    {
     "data": {
      "text/plain": [
       "array([[ -2,   8,   5,   8,  -8,  -2,   3],\n",
       "       [-10,  -9,   7,   2,  -9,   5,  -1],\n",
       "       [  1,  -3,  -7,  -7,   5,  -8,   4],\n",
       "       [ -1,  -9,   7,  -7,  -1,   7,  -6],\n",
       "       [  8,  -3,  -8,   3,  -2, -10,   6]])"
      ]
     },
     "execution_count": 67,
     "metadata": {},
     "output_type": "execute_result"
    }
   ],
   "source": [
    "wih_old = wih.copy()\n",
    "wih = wih[:, active_input_indices]\n",
    "wih"
   ]
  },
  {
   "cell_type": "code",
   "execution_count": 68,
   "metadata": {},
   "outputs": [
    {
     "name": "stdout",
     "output_type": "stream",
     "text": [
      "[[ 5  2 -7  2  8]\n",
      " [-5 -6  5  7  6]\n",
      " [ 6 -5 -6 -4  4]\n",
      " [-7 -1  8  3  5]\n",
      " [ 1  8 -2  6 -5]\n",
      " [-2 -1  6 -6  2]\n",
      " [-4 -6 -4 -3 -4]]\n",
      "[0, 1, 4]\n",
      "[[ 5  2  8]\n",
      " [-5 -6  6]\n",
      " [ 6 -5  4]\n",
      " [-7 -1  5]\n",
      " [ 1  8 -5]\n",
      " [-2 -1  2]\n",
      " [-4 -6 -4]]\n"
     ]
    }
   ],
   "source": [
    "who = np.random.randint(-10, 10, (output_nodes, hidden_nodes))\n",
    "\n",
    "print(who)\n",
    "active_hidden_percentage = 0.7\n",
    "active_hidden_nodes = int(hidden_nodes * active_hidden_percentage)\n",
    "active_hidden_indices = sorted(random.sample(range(0, hidden_nodes),\n",
    "                                             active_hidden_nodes))\n",
    "\n",
    "print(active_hidden_indices)\n",
    "\n",
    "who_old = who.copy()\n",
    "who = who[:, active_hidden_indices]\n",
    "\n",
    "print(who)"
   ]
  },
  {
   "cell_type": "code",
   "execution_count": 69,
   "metadata": {},
   "outputs": [
    {
     "data": {
      "text/plain": [
       "array([[ -2,   8,   5,   8,  -8,  -2,   3],\n",
       "       [-10,  -9,   7,   2,  -9,   5,  -1],\n",
       "       [  8,  -3,  -8,   3,  -2, -10,   6]])"
      ]
     },
     "execution_count": 69,
     "metadata": {},
     "output_type": "execute_result"
    }
   ],
   "source": [
    "wih = wih[active_hidden_indices]\n",
    "wih"
   ]
  },
  {
   "cell_type": "code",
   "execution_count": 70,
   "metadata": {},
   "outputs": [
    {
     "name": "stdout",
     "output_type": "stream",
     "text": [
      "wih: \n",
      " [[ -6  -6   1   3   9  -7   1   1  -7  -4]\n",
      " [  2   3  -9   9   9   1   2   2   9   8]\n",
      " [  6   8   0   4   3   0   2  -8   0  -3]\n",
      " [  8  -6   9  -8 -10  -5   5 -10  -3   3]\n",
      " [ -2  -6  -4   4   0   7   4   5  -9   9]]\n",
      "who: \n",
      " [[  4  -4   3 -10   1]\n",
      " [  4 -10   6   4  -6]\n",
      " [ -4   5   7  -6   6]\n",
      " [ -9  -9  -4  -7   7]\n",
      " [  6  -5  -1  -3   2]\n",
      " [ -3  -6 -10  -5   6]\n",
      " [  3   8  -6   3   9]]\n",
      "active hidden indices:  [0, 1, 4]\n",
      "\n",
      "wih after deactivating input nodes:\n",
      " [[-6  1  3]\n",
      " [ 3 -9  9]\n",
      " [ 8  0  4]\n",
      " [-6  9 -8]\n",
      " [-6 -4  4]]\n",
      "\n",
      "wih after deactivating hidden nodes:\n",
      " [[-6  1  3]\n",
      " [ 3 -9  9]\n",
      " [-6 -4  4]]\n",
      "\n",
      "who after deactivating hidden nodes:\n",
      " [[  4  -4   1]\n",
      " [  4 -10  -6]\n",
      " [ -4   5   6]\n",
      " [ -9  -9   7]\n",
      " [  6  -5   2]\n",
      " [ -3  -6   6]\n",
      " [  3   8   9]]\n"
     ]
    }
   ],
   "source": [
    "input_nodes = 10\n",
    "hidden_nodes = 5\n",
    "output_nodes = 7\n",
    "\n",
    "wih = np.random.randint(-10, 10, (hidden_nodes, input_nodes))\n",
    "print('wih: \\n', wih)\n",
    "\n",
    "who = np.random.randint(-10, 10, (output_nodes, hidden_nodes))\n",
    "print('who: \\n', who)\n",
    "\n",
    "active_input_percentage = 0.7\n",
    "active_hidden_percentage = 0.7\n",
    "\n",
    "active_input_nodes = int(input_nodes * active_input_percentage)\n",
    "active_input_indices = sorted(random.sample(range(0, hidden_nodes),\n",
    "                                            active_hidden_nodes))\n",
    "\n",
    "print('active hidden indices: ', active_hidden_indices)\n",
    "\n",
    "wih_old = wih.copy()\n",
    "wih = wih[:, active_input_indices]\n",
    "print('\\nwih after deactivating input nodes:\\n', wih)\n",
    "\n",
    "wih = wih[active_hidden_indices]\n",
    "print('\\nwih after deactivating hidden nodes:\\n', wih)\n",
    "\n",
    "who_old = who.copy()\n",
    "who = who[:, active_hidden_indices]\n",
    "print('\\nwho after deactivating hidden nodes:\\n', who)"
   ]
  },
  {
   "cell_type": "code",
   "execution_count": 71,
   "metadata": {},
   "outputs": [],
   "source": [
    "from scipy.special import expit as activation_function\n",
    "from scipy.stats import truncnorm\n",
    "\n",
    "def truncated_normal(mean=0, sd=1, low=0, upp=10):\n",
    "    return truncnorm(\n",
    "        (low - mean) / sd, (upp - mean) / sd, loc=mean, scale=sd)\n",
    "\n",
    "class NeuralNetwork:\n",
    "    def __init__(self, no_of_in_nodes, no_of_out_nodes,\n",
    "                 no_of_hidden_nodes, learning_rate, bias=None):\n",
    "        self.no_of_in_nodes = no_of_in_nodes\n",
    "        self.no_of_out_nodes = no_of_out_nodes\n",
    "        self.no_of_hidden_nodes = no_of_hidden_nodes\n",
    "        self.learning_rate = learning_rate\n",
    "        self.bias = bias\n",
    "        self.create_weight_matrices()\n",
    "\n",
    "\n",
    "    def create_weight_matrices(self):\n",
    "        bias_node = 1 if self.bias else 0\n",
    "\n",
    "        n = (self.no_of_in_nodes + bias_node) * self.no_of_hidden_nodes\n",
    "\n",
    "        X = truncated_normal(mean=2, sd=1, low=-0.5, upp=0.5)\n",
    "        self.wih = X.rvs(n).reshape((self.no_of_hidden_nodes,\n",
    "                                     self.no_of_in_nodes + bias_node))\n",
    "        \n",
    "\n",
    "        n = (self.no_of_hidden_nodes + bias_node) * self.no_of_out_nodes\n",
    "        X = truncated_normal(mean=2, sd=1, low=-0.5, upp=0.5)\n",
    "        self.who = X.rvs(n).reshape((self.no_of_out_nodes, (self.no_of_hidden_nodes + bias_node)))\n",
    "\n",
    "    def dropout_weight_matrices(self, active_input_percentage=0.70,\n",
    "                                active_hidden_percentage=0.70):\n",
    "        self.wih_orig = self.wih.copy()\n",
    "        self.no_of_in_nodes_orig = self.no_of_in_nodes\n",
    "        self.no_of_hidden_nodes_orig = self.no_of_hidden_nodes\n",
    "        self.who_orig = self.who.copy()\n",
    "\n",
    "        active_input_nodes = int(self.no_of_in_nodes * active_input_percentage)\n",
    "        active_input_indices = sorted(random.sample(range(0, self.no_of_in_nodes), active_input_nodes))\n",
    "\n",
    "        active_hidden_nodes = int(self.no_of_hidden_nodes * active_hidden_percentage)\n",
    "        active_hidden_indices = sorted(random.sample(range(0, self.no_of_hidden_nodes), active_hidden_nodes))\n",
    "\n",
    "        self.wih = self.wih[:, active_input_indices][active_hidden_indices]\n",
    "        self.who = self.who[:, active_hidden_indices]\n",
    "\n",
    "        self.no_of_hidden_nodes = active_hidden_nodes\n",
    "        self.no_of_in_nodes = active_input_nodes\n",
    "\n",
    "        return active_input_indices, active_hidden_indices\n",
    "    \n",
    "    def weight_matrices_reset(self, active_input_indices,\n",
    "                                active_hidden_indices):\n",
    "        temp = self.wih_orig.copy()[:, active_input_indices]\n",
    "        temp[active_hidden_indices] = self.wih\n",
    "\n",
    "        self.wih_orig[:, active_input_indices] = temp\n",
    "        self.wih = self.wih_orig.copy()\n",
    "\n",
    "        self.who_orig[:, active_hidden_indices] = self.who\n",
    "        self.who = self.who_orig.copy()\n",
    "\n",
    "        self.no_of_in_nodes = self.no_of_in_nodes_orig\n",
    "        self.no_of_hidden_nodes = self.no_of_hidden_nodes_orig\n",
    "\n",
    "\n",
    "    def train_single(self, input_vector, target_vector):\n",
    "        if self.bias:\n",
    "            input_vector = np.concatenate((input_vector, [self.bias]))\n",
    "\n",
    "        input_vector = np.array(input_vector, ndmin=2).T\n",
    "        target_vector = np.array(target_vector, ndmin=2).T\n",
    "\n",
    "        output_vector1 = np.dot(self.wih, input_vector)\n",
    "        output_vector_hidden = activation_function(output_vector1)\n",
    "\n",
    "        if self.bias:\n",
    "            output_vector_hidden = np.concatenate((output_vector_hidden, [[self.bias]]))\n",
    "\n",
    "        output_vector2 = np.dot(self.who, output_vector_hidden)\n",
    "        output_vector_network = activation_function(output_vector2)\n",
    "\n",
    "        output_errors = target_vector - output_vector_network\n",
    "\n",
    "        tmp = output_errors * output_vector_network * (1.0 - output_vector_network)\n",
    "        tmp = self.learning_rate * np.dot(tmp, output_vector_hidden.T)\n",
    "        \n",
    "        self.who += tmp\n",
    "\n",
    "        hidden_errors = np.dot(self.who.T, output_errors)\n",
    "\n",
    "        tmp = hidden_errors * output_vector_hidden * (1.0 - output_vector_hidden)\n",
    "\n",
    "        if self.bias:\n",
    "            x = np.dot(tmp, input_vector.T)[:-1, :]\n",
    "        else:\n",
    "            x = np.dot(tmp, input_vector.T)\n",
    "\n",
    "        self.wih += self.learning_rate * x\n",
    "\n",
    "    def train(self, data_array, labels_one_hot_array, epochs=1, \n",
    "              active_input_percentage=0.70, active_hidden_percentage=0.70,\n",
    "              no_of_dropout_tests = 10):\n",
    "       \n",
    "        partition_length = int(len(data_array)/ no_of_dropout_tests)\n",
    "\n",
    "        for epoch in range(epochs):\n",
    "            print('epoch: ', epoch)\n",
    "            \n",
    "            for start in range(0, len(data_array), partition_length):\n",
    "                active_in_indices, active_hidden_indices = self.dropout_weight_matrices(active_input_percentage, active_hidden_percentage)\n",
    "\n",
    "            for i in range(start, start + partition_length):\n",
    "                self.train_single(data_array[i][active_in_indices], labels_one_hot_array[i])\n",
    "                self.weight_matrices_reset(active_in_indices, active_hidden_indices)\n",
    "\n",
    "\n",
    "    def confusion_matrix(self, data_array, labels):\n",
    "        cm = {}\n",
    "\n",
    "        for i in range(len(data_array)):\n",
    "            res = self.run(data_array[i])\n",
    "            res_max = res.argmax()\n",
    "\n",
    "            target = labels[i][0]\n",
    "\n",
    "            if (target, res_max) in cm:\n",
    "                cm[(target, res_max)] += 1\n",
    "            else:\n",
    "                cm[(target, res_max)] = 1\n",
    "\n",
    "        return cm\n",
    "    \n",
    "\n",
    "    def run(self, input_vector):\n",
    "        if self.bias:\n",
    "            input_vector = np.concatenate((input_vector, [self.bias]))\n",
    "\n",
    "        input_vector = np.array(input_vector, ndmin=2).T\n",
    "\n",
    "        output_vector = np.dot(self.wih, input_vector)\n",
    "        output_vector = activation_function(output_vector)\n",
    "\n",
    "        if self.bias:\n",
    "            output_vector = np.concatenate((output_vector, [[self.bias]]))\n",
    "\n",
    "        output_vector = np.dot(self.who, output_vector)\n",
    "        output_vector = activation_function(output_vector)\n",
    "\n",
    "        return output_vector\n",
    "\n",
    "    def evaluate(self, data, labels):\n",
    "        corrects, wrongs = 0, 0\n",
    "\n",
    "        for i in range(len(data)):\n",
    "            res = self.run(data[i])\n",
    "            res_max = res.argmax()\n",
    "\n",
    "            if res_max == labels[i]:\n",
    "                corrects += 1\n",
    "            else:\n",
    "                wrongs += 1\n",
    "\n",
    "        return corrects, wrongs\n"
   ]
  },
  {
   "cell_type": "code",
   "execution_count": 1,
   "metadata": {},
   "outputs": [
    {
     "ename": "NameError",
     "evalue": "name 'np' is not defined",
     "output_type": "error",
     "traceback": [
      "\u001b[1;31m---------------------------------------------------------------------------\u001b[0m",
      "\u001b[1;31mNameError\u001b[0m                                 Traceback (most recent call last)",
      "\u001b[1;32mc:\\Users\\kylec\\OneDrive\\Desktop\\ML\\mlwp\\mlwp_21.ipynb Cell 9\u001b[0m line \u001b[0;36m1\n\u001b[0;32m      <a href='vscode-notebook-cell:/c%3A/Users/kylec/OneDrive/Desktop/ML/mlwp/mlwp_21.ipynb#X11sZmlsZQ%3D%3D?line=7'>8</a>\u001b[0m train_labels, test_labels \u001b[39m=\u001b[39m data[\u001b[39m2\u001b[39m], data[\u001b[39m3\u001b[39m]\n\u001b[0;32m     <a href='vscode-notebook-cell:/c%3A/Users/kylec/OneDrive/Desktop/ML/mlwp/mlwp_21.ipynb#X11sZmlsZQ%3D%3D?line=9'>10</a>\u001b[0m no_of_different_labels \u001b[39m=\u001b[39m \u001b[39m10\u001b[39m\n\u001b[1;32m---> <a href='vscode-notebook-cell:/c%3A/Users/kylec/OneDrive/Desktop/ML/mlwp/mlwp_21.ipynb#X11sZmlsZQ%3D%3D?line=10'>11</a>\u001b[0m lr \u001b[39m=\u001b[39m np\u001b[39m.\u001b[39marange(no_of_different_labels)\n\u001b[0;32m     <a href='vscode-notebook-cell:/c%3A/Users/kylec/OneDrive/Desktop/ML/mlwp/mlwp_21.ipynb#X11sZmlsZQ%3D%3D?line=13'>14</a>\u001b[0m train_labels_one_hot \u001b[39m=\u001b[39m (lr\u001b[39m==\u001b[39mtrain_labels)\u001b[39m.\u001b[39mastype(np\u001b[39m.\u001b[39mfloat64)\n\u001b[0;32m     <a href='vscode-notebook-cell:/c%3A/Users/kylec/OneDrive/Desktop/ML/mlwp/mlwp_21.ipynb#X11sZmlsZQ%3D%3D?line=14'>15</a>\u001b[0m test_labels_one_hot \u001b[39m=\u001b[39m (lr\u001b[39m==\u001b[39mtest_labels)\u001b[39m.\u001b[39mastype(np\u001b[39m.\u001b[39mfloat64)\n",
      "\u001b[1;31mNameError\u001b[0m: name 'np' is not defined"
     ]
    }
   ],
   "source": [
    "import pickle\n",
    "\n",
    "\n",
    "with open('pickled_mnist.pkl', 'br') as fh:\n",
    "    data = pickle.load(fh)\n",
    "\n",
    "train_imgs, test_imgs = data[0], data[1]\n",
    "train_labels, test_labels = data[2], data[3]\n",
    "\n",
    "no_of_different_labels = 10\n",
    "lr = np.arange(no_of_different_labels)\n",
    "\n",
    "\n",
    "train_labels_one_hot = (lr==train_labels).astype(np.float64)\n",
    "test_labels_one_hot = (lr==test_labels).astype(np.float64)\n",
    "\n",
    "image_size = 28\n",
    "no_of_different_labels = 10\n",
    "image_pixels = image_size * image_size"
   ]
  },
  {
   "cell_type": "code",
   "execution_count": 73,
   "metadata": {},
   "outputs": [
    {
     "name": "stdout",
     "output_type": "stream",
     "text": [
      "6000\n",
      "0 6000\n",
      "6000 12000\n",
      "12000 18000\n",
      "18000 24000\n",
      "24000 30000\n",
      "30000 36000\n",
      "36000 42000\n",
      "42000 48000\n",
      "48000 54000\n",
      "54000 60000\n"
     ]
    }
   ],
   "source": [
    "parts = 10\n",
    "partition_length = int(len(train_imgs) / parts)\n",
    "print(partition_length)\n",
    "\n",
    "start = 0\n",
    "for start in range(0, len(train_imgs), partition_length):\n",
    "    print(start, start + partition_length)"
   ]
  },
  {
   "cell_type": "code",
   "execution_count": 74,
   "metadata": {},
   "outputs": [
    {
     "name": "stdout",
     "output_type": "stream",
     "text": [
      "epoch:  0\n",
      "epoch:  1\n",
      "epoch:  2\n"
     ]
    }
   ],
   "source": [
    "epochs = 3\n",
    "simple_network = NeuralNetwork(no_of_in_nodes = image_pixels,\n",
    "                               no_of_out_nodes = 10,\n",
    "                               no_of_hidden_nodes=100,\n",
    "                               learning_rate=0.1)\n",
    "\n",
    "simple_network.train(train_imgs, train_labels_one_hot,\n",
    "                     active_input_percentage=0.7, active_hidden_percentage=0.7,\n",
    "                     no_of_dropout_tests=100, epochs=epochs)"
   ]
  },
  {
   "cell_type": "code",
   "execution_count": 75,
   "metadata": {},
   "outputs": [
    {
     "ename": "ValueError",
     "evalue": "shapes (0,0) and (784,1) not aligned: 0 (dim 1) != 784 (dim 0)",
     "output_type": "error",
     "traceback": [
      "\u001b[1;31m---------------------------------------------------------------------------\u001b[0m",
      "\u001b[1;31mValueError\u001b[0m                                Traceback (most recent call last)",
      "\u001b[1;32mc:\\Users\\kylec\\OneDrive\\Desktop\\ML\\mlwp\\mlwp_21.ipynb Cell 12\u001b[0m line \u001b[0;36m1\n\u001b[1;32m----> <a href='vscode-notebook-cell:/c%3A/Users/kylec/OneDrive/Desktop/ML/mlwp/mlwp_21.ipynb#X22sZmlsZQ%3D%3D?line=0'>1</a>\u001b[0m corrects, wrongs \u001b[39m=\u001b[39m simple_network\u001b[39m.\u001b[39;49mevaluate(train_imgs, train_labels)\n\u001b[0;32m      <a href='vscode-notebook-cell:/c%3A/Users/kylec/OneDrive/Desktop/ML/mlwp/mlwp_21.ipynb#X22sZmlsZQ%3D%3D?line=1'>2</a>\u001b[0m \u001b[39mprint\u001b[39m(\u001b[39m'\u001b[39m\u001b[39maccuracy train: \u001b[39m\u001b[39m'\u001b[39m, corrects \u001b[39m/\u001b[39m (corrects \u001b[39m+\u001b[39m wrongs))\n\u001b[0;32m      <a href='vscode-notebook-cell:/c%3A/Users/kylec/OneDrive/Desktop/ML/mlwp/mlwp_21.ipynb#X22sZmlsZQ%3D%3D?line=3'>4</a>\u001b[0m corrects, wrongs \u001b[39m=\u001b[39m simple_network\u001b[39m.\u001b[39mevaluate(test_imgs, test_labels)\n",
      "\u001b[1;32mc:\\Users\\kylec\\OneDrive\\Desktop\\ML\\mlwp\\mlwp_21.ipynb Cell 12\u001b[0m line \u001b[0;36m1\n\u001b[0;32m    <a href='vscode-notebook-cell:/c%3A/Users/kylec/OneDrive/Desktop/ML/mlwp/mlwp_21.ipynb#X22sZmlsZQ%3D%3D?line=154'>155</a>\u001b[0m corrects, wrongs \u001b[39m=\u001b[39m \u001b[39m0\u001b[39m, \u001b[39m0\u001b[39m\n\u001b[0;32m    <a href='vscode-notebook-cell:/c%3A/Users/kylec/OneDrive/Desktop/ML/mlwp/mlwp_21.ipynb#X22sZmlsZQ%3D%3D?line=156'>157</a>\u001b[0m \u001b[39mfor\u001b[39;00m i \u001b[39min\u001b[39;00m \u001b[39mrange\u001b[39m(\u001b[39mlen\u001b[39m(data)):\n\u001b[1;32m--> <a href='vscode-notebook-cell:/c%3A/Users/kylec/OneDrive/Desktop/ML/mlwp/mlwp_21.ipynb#X22sZmlsZQ%3D%3D?line=157'>158</a>\u001b[0m     res \u001b[39m=\u001b[39m \u001b[39mself\u001b[39;49m\u001b[39m.\u001b[39;49mrun(data[i])\n\u001b[0;32m    <a href='vscode-notebook-cell:/c%3A/Users/kylec/OneDrive/Desktop/ML/mlwp/mlwp_21.ipynb#X22sZmlsZQ%3D%3D?line=158'>159</a>\u001b[0m     res_max \u001b[39m=\u001b[39m res\u001b[39m.\u001b[39margmax()\n\u001b[0;32m    <a href='vscode-notebook-cell:/c%3A/Users/kylec/OneDrive/Desktop/ML/mlwp/mlwp_21.ipynb#X22sZmlsZQ%3D%3D?line=160'>161</a>\u001b[0m     \u001b[39mif\u001b[39;00m res_max \u001b[39m==\u001b[39m labels[i]:\n",
      "\u001b[1;32mc:\\Users\\kylec\\OneDrive\\Desktop\\ML\\mlwp\\mlwp_21.ipynb Cell 12\u001b[0m line \u001b[0;36m1\n\u001b[0;32m    <a href='vscode-notebook-cell:/c%3A/Users/kylec/OneDrive/Desktop/ML/mlwp/mlwp_21.ipynb#X22sZmlsZQ%3D%3D?line=138'>139</a>\u001b[0m     input_vector \u001b[39m=\u001b[39m np\u001b[39m.\u001b[39mconcatenate((input_vector, [\u001b[39mself\u001b[39m\u001b[39m.\u001b[39mbias]))\n\u001b[0;32m    <a href='vscode-notebook-cell:/c%3A/Users/kylec/OneDrive/Desktop/ML/mlwp/mlwp_21.ipynb#X22sZmlsZQ%3D%3D?line=140'>141</a>\u001b[0m input_vector \u001b[39m=\u001b[39m np\u001b[39m.\u001b[39marray(input_vector, ndmin\u001b[39m=\u001b[39m\u001b[39m2\u001b[39m)\u001b[39m.\u001b[39mT\n\u001b[1;32m--> <a href='vscode-notebook-cell:/c%3A/Users/kylec/OneDrive/Desktop/ML/mlwp/mlwp_21.ipynb#X22sZmlsZQ%3D%3D?line=142'>143</a>\u001b[0m output_vector \u001b[39m=\u001b[39m np\u001b[39m.\u001b[39;49mdot(\u001b[39mself\u001b[39;49m\u001b[39m.\u001b[39;49mwih, input_vector)\n\u001b[0;32m    <a href='vscode-notebook-cell:/c%3A/Users/kylec/OneDrive/Desktop/ML/mlwp/mlwp_21.ipynb#X22sZmlsZQ%3D%3D?line=143'>144</a>\u001b[0m output_vector \u001b[39m=\u001b[39m activation_function(output_vector)\n\u001b[0;32m    <a href='vscode-notebook-cell:/c%3A/Users/kylec/OneDrive/Desktop/ML/mlwp/mlwp_21.ipynb#X22sZmlsZQ%3D%3D?line=145'>146</a>\u001b[0m \u001b[39mif\u001b[39;00m \u001b[39mself\u001b[39m\u001b[39m.\u001b[39mbias:\n",
      "File \u001b[1;32m<__array_function__ internals>:200\u001b[0m, in \u001b[0;36mdot\u001b[1;34m(*args, **kwargs)\u001b[0m\n",
      "\u001b[1;31mValueError\u001b[0m: shapes (0,0) and (784,1) not aligned: 0 (dim 1) != 784 (dim 0)"
     ]
    }
   ],
   "source": [
    "corrects, wrongs = simple_network.evaluate(train_imgs, train_labels)\n",
    "print('accuracy train: ', corrects / (corrects + wrongs))\n",
    "\n",
    "corrects, wrongs = simple_network.evaluate(test_imgs, test_labels)\n",
    "print('accuracy test: ', corrects / (corrects + wrongs))"
   ]
  },
  {
   "cell_type": "code",
   "execution_count": null,
   "metadata": {},
   "outputs": [],
   "source": []
  },
  {
   "cell_type": "code",
   "execution_count": null,
   "metadata": {},
   "outputs": [],
   "source": []
  },
  {
   "cell_type": "code",
   "execution_count": null,
   "metadata": {},
   "outputs": [],
   "source": []
  },
  {
   "cell_type": "code",
   "execution_count": null,
   "metadata": {},
   "outputs": [],
   "source": []
  },
  {
   "cell_type": "code",
   "execution_count": null,
   "metadata": {},
   "outputs": [],
   "source": []
  }
 ],
 "metadata": {
  "kernelspec": {
   "display_name": "Python 3",
   "language": "python",
   "name": "python3"
  },
  "language_info": {
   "codemirror_mode": {
    "name": "ipython",
    "version": 3
   },
   "file_extension": ".py",
   "mimetype": "text/x-python",
   "name": "python",
   "nbconvert_exporter": "python",
   "pygments_lexer": "ipython3",
   "version": "3.11.5"
  },
  "orig_nbformat": 4
 },
 "nbformat": 4,
 "nbformat_minor": 2
}
